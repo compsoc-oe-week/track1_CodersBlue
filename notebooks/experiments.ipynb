{
 "cells": [
  {
   "cell_type": "markdown",
   "metadata": {},
   "source": [
    "# Prompt Engineering Experiments\n",
    "\n",
    "This notebook is for experimenting with different prompt templates for the `nl_to_plan` function."
   ]
  },
  {
   "cell_type": "code",
   "execution_count": null,
   "metadata": {},
   "outputs": [],
   "source": [
    "import os\n",
    "import sys\n",
    "import json\n",
    "\n",
    "# Add the src directory to the path to import our module\n",
    "sys.path.append(os.path.abspath(os.path.join('..', 'src')))\n",
    "\n",
    "from core.nl2cmd import nl_to_plan, InvalidPlanError"
   ]
  },
  {
   "cell_type": "code",
   "execution_count": null,
   "metadata": {},
   "outputs": [],
   "source": [
    "# Set the CODER_BASE_URL environment variable\n",
    "# IMPORTANT: Replace with your actual API endpoint\n",
    "os.environ['CODER_BASE_URL'] = 'http://your-api-endpoint/v1'"
   ]
  },
  {
   "cell_type": "code",
   "execution_count": null,
   "metadata": {},
   "outputs": [],
   "source": [
    "user_command = \"Find all python files in the 'src' directory and then count how many there are.\"\n",
    "\n",
    "try:\n",
    "    plan = nl_to_plan(user_command)\n",
    "    print(json.dumps(plan, indent=2))\n",
    "except (ValueError, InvalidPlanError) as e:\n",
    "    print(f\"An error occurred: {e}\")"
   ]
  }
 ],
 "metadata": {
  "kernelspec": {
   "display_name": "Python 3",
   "language": "python",
   "name": "python3"
  },
  "language_info": {
   "codemirror_mode": {
    "name": "ipython",
    "version": 3
   },
   "file_extension": ".py",
   "mimetype": "text/x-python",
   "name": "python",
   "nbconvert_exporter": "python",
   "pygments_lexer": "ipython3",
   "version": "3.9.7"
  }
 },
 "nbformat": 4,
 "nbformat_minor": 4
}